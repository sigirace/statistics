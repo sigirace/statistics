{
 "cells": [
  {
   "cell_type": "code",
   "execution_count": 5,
   "metadata": {},
   "outputs": [
    {
     "name": "stdout",
     "output_type": "stream",
     "text": [
      "Step 0: Sunny\n",
      "Step 1: Rainy\n",
      "Step 2: Rainy\n",
      "Step 3: Sunny\n",
      "Step 4: Sunny\n",
      "Step 5: Rainy\n",
      "Step 6: Sunny\n",
      "Step 7: Sunny\n",
      "Step 8: Sunny\n",
      "Step 9: Rainy\n",
      "Final State: Rainy\n"
     ]
    }
   ],
   "source": [
    "import numpy as np\n",
    "\n",
    "# 상태 정의\n",
    "states = ['Sunny', 'Rainy']\n",
    "\n",
    "# 전이 확률 행렬: P[i, j]는 상태 i에서 j로 전이할 확률\n",
    "# P = [\n",
    "#  [Sunny -> Sunny, Sunny -> Rainy],\n",
    "#  [Rainy -> Sunny, Rainy -> Rainy]\n",
    "# ]\n",
    "P = np.array([\n",
    "    [0.7, 0.3],  # Sunny에서 Sunny로, Sunny에서 Rainy로\n",
    "    [0.5, 0.5]   # Rainy에서 Sunny로, Rainy에서 Rainy로\n",
    "])\n",
    "\n",
    "# 초기 상태 (Sunny로 시작)\n",
    "current_state = 0  # 'Sunny' 상태의 인덱스\n",
    "\n",
    "# 마르코프 체인 시뮬레이션\n",
    "num_steps = 10  # 시뮬레이션할 단계 수\n",
    "for step in range(num_steps):\n",
    "    print(f\"Step {step}: {states[current_state]}\")\n",
    "    current_state = np.random.choice([0, 1], p=P[current_state])\n",
    "\n",
    "# 최종 상태 출력\n",
    "print(f\"Final State: {states[current_state]}\")"
   ]
  }
 ],
 "metadata": {
  "kernelspec": {
   "display_name": "ml",
   "language": "python",
   "name": "python3"
  },
  "language_info": {
   "codemirror_mode": {
    "name": "ipython",
    "version": 3
   },
   "file_extension": ".py",
   "mimetype": "text/x-python",
   "name": "python",
   "nbconvert_exporter": "python",
   "pygments_lexer": "ipython3",
   "version": "3.9.16"
  }
 },
 "nbformat": 4,
 "nbformat_minor": 2
}
